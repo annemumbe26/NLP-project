{
 "cells": [
  {
   "cell_type": "markdown",
   "id": "0f726f0e",
   "metadata": {},
   "source": [
    "Sentiment Analysis Dashboard for Product & Brand Analysis"
   ]
  }
 ],
 "metadata": {
  "kernelspec": {
   "display_name": "learn-env",
   "language": "python",
   "name": "python3"
  },
  "language_info": {
   "name": "python",
   "version": "3.8.5"
  }
 },
 "nbformat": 4,
 "nbformat_minor": 5
}
